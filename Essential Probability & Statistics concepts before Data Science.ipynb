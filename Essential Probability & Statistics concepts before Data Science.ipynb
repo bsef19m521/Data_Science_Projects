{
 "cells": [
  {
   "cell_type": "markdown",
   "id": "c7630d0a",
   "metadata": {},
   "source": [
    "# Essential Probability & Statistics concepts before Data Science\n"
   ]
  },
  {
   "cell_type": "markdown",
   "id": "3800f69c",
   "metadata": {},
   "source": [
    "<img src=\"https://editor.analyticsvidhya.com/uploads/18057WhatsApp%20Image%202021-05-31%20at%208.41.43%20PM%20(1).jpeg\">"
   ]
  },
  {
   "cell_type": "markdown",
   "id": "185727fb",
   "metadata": {},
   "source": [
    "I think there are four pillars of mathematics which form a concrete base of being a Data Scientist\n",
    "\n",
    "### Linear Algebra \n",
    "- used quite frequently in traditional Machine Learning algorithms like Logistic Regression, SVM, etc. Also in unsupervised techniques such as PCA.\n",
    "\n",
    "### Calculus\n",
    "- The backbone of Deep Learning, particularly the driving force behind the famous backpropagation, that’s the force behind almost all of the neural networks that work like magic for us today.\n",
    "\n",
    "### Probability and Statistics\n",
    "- forms the basis of Data Science and Data Analysis\n",
    "\n",
    "### Matrices(that can also be included in Linear Algebra)\n",
    "- have a wide usage in Recommender Systems."
   ]
  },
  {
   "cell_type": "markdown",
   "id": "f25db728",
   "metadata": {},
   "source": [
    "## Statistics at a very broad level can be divided in 2 categories \n",
    "\n",
    "### Descriptive Statistics \n",
    "- Calculation and analysis of various statistical moments of the underlying data such as mean, variance, quantiles etc. In other words, they are brief coefficients that summarize your data.\n",
    "\n",
    "### Inferential Statistics \n",
    "- Making an inference on population by examining a sample of that population.\n"
   ]
  },
  {
   "cell_type": "markdown",
   "id": "09b8509b",
   "metadata": {},
   "source": [
    "### In Descriptive Statistics and Probability, one should know in-depth about at least the following \n",
    "\n",
    "- Measures of Central Tendency — Mean, Median, Mode\n",
    "- Measures of Variability — Variance, Standard Deviation\n",
    "- Percentiles and Quantiles — Interquartile Range and Mean/Median absolute deviation\n",
    "- Scatter Plot\n",
    "- Histograms\n",
    "- PDF(Probability Density Function)\n",
    "- CDF(Cumulative Distribution function)\n",
    "- Box Plots\n",
    "- Pair Plots(just an extension of scatter plots)"
   ]
  },
  {
   "cell_type": "markdown",
   "id": "7a1a81f7",
   "metadata": {},
   "source": [
    "### In Inferential Statistics and Probability, one should know in-depth about at least the following \n",
    "\n",
    "- Population and Sample\n",
    "- Bias in Sampling\n",
    "- Gaussian/Normal Distribution(this is very important)\n",
    "- Standard Normal Distribution\n",
    "- Z-Statistic and Standardization\n",
    "- T-Statistic and its application in Confidence Intervals(Student’s T-Distribution)\n",
    "- Skewness and Kurtosis of a distribution\n",
    "- Central Limit Theorem(one of the most fundamental theorems in not only statistics but whole of mathematics)\n"
   ]
  },
  {
   "cell_type": "markdown",
   "id": "2223bd9a",
   "metadata": {},
   "source": [
    "### Discrete and Continous Distributions topics are  mentioned below \n",
    "- Binomial and Bernoulli Distribution\n",
    "- Poisson Distribution\n",
    "- Uniform Distribution(both Discrete and Continous)\n",
    "- Normal Distribution\n",
    "- Exponential Distribution\n",
    "- Log-Normal Distribution\n",
    "- Power Law Distribution\n",
    "- Box-Cox transform\n",
    "- Kernel Density Estimation\n",
    "- Box-Cox transformation\n",
    "- Chebyshev’s inequality\n",
    "- Correlation Coefficients(Pearson, Spearman, Chi-Squared)\n",
    "- Point Estimates and Confidence Intervals\n",
    "- Hypothesis testing\n",
    "- p-values\n",
    "- Q-Q Plot\n",
    "- KS-Test\n",
    "- Chi-Squared Analysis"
   ]
  },
  {
   "cell_type": "code",
   "execution_count": null,
   "id": "a7dbc23e",
   "metadata": {},
   "outputs": [],
   "source": []
  }
 ],
 "metadata": {
  "kernelspec": {
   "display_name": "Python 3 (ipykernel)",
   "language": "python",
   "name": "python3"
  },
  "language_info": {
   "codemirror_mode": {
    "name": "ipython",
    "version": 3
   },
   "file_extension": ".py",
   "mimetype": "text/x-python",
   "name": "python",
   "nbconvert_exporter": "python",
   "pygments_lexer": "ipython3",
   "version": "3.8.10"
  }
 },
 "nbformat": 4,
 "nbformat_minor": 5
}
