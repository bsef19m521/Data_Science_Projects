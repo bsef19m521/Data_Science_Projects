{
 "cells": [
  {
   "cell_type": "markdown",
   "id": "9096972a",
   "metadata": {},
   "source": [
    "# Essential Probability & Statistics concepts before Data Science\n"
   ]
  },
  {
   "cell_type": "markdown",
   "id": "029c0bca",
   "metadata": {},
   "source": [
    "<img src=\"https://editor.analyticsvidhya.com/uploads/18057WhatsApp%20Image%202021-05-31%20at%208.41.43%20PM%20(1).jpeg\">"
   ]
  },
  {
   "cell_type": "markdown",
   "id": "12396033",
   "metadata": {},
   "source": [
    "I think there are four pillars of mathematics which form a concrete base of being a Data Scientist\n",
    "\n",
    "### Linear Algebra \n",
    "- used quite frequently in traditional Machine Learning algorithms like Logistic Regression, SVM, etc. Also in unsupervised techniques such as PCA.\n",
    "\n",
    "### Calculus\n",
    "- The backbone of Deep Learning, particularly the driving force behind the famous backpropagation, that’s the force behind almost all of the neural networks that work like magic for us today.\n",
    "\n",
    "### Probability and Statistics\n",
    "- forms the basis of Data Science and Data Analysis\n",
    "\n",
    "### Matrices(that can also be included in Linear Algebra)\n",
    "- have a wide usage in Recommender Systems."
   ]
  },
  {
   "cell_type": "markdown",
   "id": "4a324e3f",
   "metadata": {},
   "source": [
    "## Statistics at a very broad level can be divided in 2 categories \n",
    "\n",
    "### Descriptive Statistics \n",
    "- Calculation and analysis of various statistical moments of the underlying data such as mean, variance, quantiles etc. In other words, they are brief coefficients that summarize your data.\n",
    "\n",
    "### Inferential Statistics \n",
    "- Making an inference on population by examining a sample of that population.\n"
   ]
  },
  {
   "cell_type": "code",
   "execution_count": null,
   "id": "f3d6e70b",
   "metadata": {},
   "outputs": [],
   "source": []
  }
 ],
 "metadata": {
  "kernelspec": {
   "display_name": "Python 3 (ipykernel)",
   "language": "python",
   "name": "python3"
  },
  "language_info": {
   "codemirror_mode": {
    "name": "ipython",
    "version": 3
   },
   "file_extension": ".py",
   "mimetype": "text/x-python",
   "name": "python",
   "nbconvert_exporter": "python",
   "pygments_lexer": "ipython3",
   "version": "3.8.10"
  }
 },
 "nbformat": 4,
 "nbformat_minor": 5
}
